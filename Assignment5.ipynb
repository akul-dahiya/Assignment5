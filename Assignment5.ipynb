{
 "cells": [
  {
   "cell_type": "code",
   "execution_count": 11,
   "id": "fd275881-f7ca-4fcd-9e8f-50ed20c7644e",
   "metadata": {},
   "outputs": [],
   "source": [
    "# Q1, Create a vehicle class with an init method having instance variables as name_of_vehicle, max_speed\n",
    "# and average_of_vehicle.\n",
    "\n",
    "#Ans\n",
    "\n",
    "class vehicle:\n",
    "    \n",
    "    def __init__(self , name_of_vehicle , max_speed , average_of_vehicle):\n",
    "        self.name_of_vehicle = name_of_vehicle\n",
    "        self.max_speed = max_speed\n",
    "        self.average_of_vehicle = average_of_vehicle\n",
    "        \n",
    "    def return_vehicle_details(self):\n",
    "        return self.name_of_vehicle , self.max_speed , self.average_of_vehicle"
   ]
  },
  {
   "cell_type": "code",
   "execution_count": 12,
   "id": "504b2178-b150-4244-a17a-b95e7b507012",
   "metadata": {},
   "outputs": [],
   "source": [
    "car = vehicle(\"car\" , 200 , 80)"
   ]
  },
  {
   "cell_type": "code",
   "execution_count": 13,
   "id": "a49dbbd7-b9c4-4242-b195-48043ecf5ec3",
   "metadata": {},
   "outputs": [
    {
     "data": {
      "text/plain": [
       "('car', 200, 80)"
      ]
     },
     "execution_count": 13,
     "metadata": {},
     "output_type": "execute_result"
    }
   ],
   "source": [
    "car.return_vehicle_details()"
   ]
  },
  {
   "cell_type": "code",
   "execution_count": 15,
   "id": "8477dd92-c803-4954-aab3-0e85aa2fccb4",
   "metadata": {},
   "outputs": [
    {
     "data": {
      "text/plain": [
       "200"
      ]
     },
     "execution_count": 15,
     "metadata": {},
     "output_type": "execute_result"
    }
   ],
   "source": [
    "car.max_speed"
   ]
  },
  {
   "cell_type": "code",
   "execution_count": 16,
   "id": "f7767b37-8fbb-4939-85c2-1bbf61ed89cf",
   "metadata": {},
   "outputs": [],
   "source": [
    "# Q2. Create a child class car from the vehicle class created in Que 1, which will inherit the vehicle class.\n",
    "# Create a method named seating_capacity which takes capacity as an argument and returns the name of\n",
    "# the vehicle and its seating capacity.\n",
    "\n",
    "#Ans\n",
    "\n",
    "class car(vehicle):\n",
    "    \n",
    "    def seating_capacity(self , capacity):\n",
    "        self.capacity = capacity\n",
    "        return self.name_of_vehicle , self.capacity"
   ]
  },
  {
   "cell_type": "code",
   "execution_count": 18,
   "id": "883b2bb3-0627-4664-aa4c-d87baa64d31a",
   "metadata": {},
   "outputs": [],
   "source": [
    "car_obj = car(\"car\" , 200 , 80)"
   ]
  },
  {
   "cell_type": "code",
   "execution_count": 20,
   "id": "d661b36f-7302-4216-9a04-d1cc09b16371",
   "metadata": {},
   "outputs": [
    {
     "data": {
      "text/plain": [
       "('car', 5)"
      ]
     },
     "execution_count": 20,
     "metadata": {},
     "output_type": "execute_result"
    }
   ],
   "source": [
    "car_obj.seating_capacity(5)"
   ]
  },
  {
   "cell_type": "markdown",
   "id": "75078f6e-0b55-4e29-9494-02f445020bca",
   "metadata": {},
   "source": [
    "Q3. What is multiple inheritance? Write a python code to demonstrate multiple inheritance.\n",
    "\n",
    "Ans. When a class inherit  attributes and methods from more than one class is called multiple inheritance.\n",
    "    python code to demonstrate multiple inheritance is as following"
   ]
  },
  {
   "cell_type": "code",
   "execution_count": 21,
   "id": "471359df-4789-47f3-aba4-b2a978ac1938",
   "metadata": {},
   "outputs": [],
   "source": [
    "class parent1:\n",
    "    \n",
    "    def method1(self):\n",
    "        return \"This is method1 of parent1\"\n",
    "    \n",
    "class parent2:\n",
    "    \n",
    "    def method2(self):\n",
    "        return \"This is method of parent2\"\n",
    "    \n",
    "class parent3(parent1 , parent2):\n",
    "    pass\n"
   ]
  },
  {
   "cell_type": "code",
   "execution_count": 22,
   "id": "3edab584-2dbe-437e-9d9f-b409bc328161",
   "metadata": {},
   "outputs": [],
   "source": [
    "obj_parent3 = parent3()"
   ]
  },
  {
   "cell_type": "code",
   "execution_count": 23,
   "id": "62a58aa8-1c03-4d18-a62f-253b80d9034e",
   "metadata": {},
   "outputs": [
    {
     "data": {
      "text/plain": [
       "'This is method1 of parent1'"
      ]
     },
     "execution_count": 23,
     "metadata": {},
     "output_type": "execute_result"
    }
   ],
   "source": [
    "obj_parent3.method1()"
   ]
  },
  {
   "cell_type": "code",
   "execution_count": 24,
   "id": "5d32060e-a707-49d1-9346-f8c92a428b78",
   "metadata": {},
   "outputs": [
    {
     "data": {
      "text/plain": [
       "'This is method of parent2'"
      ]
     },
     "execution_count": 24,
     "metadata": {},
     "output_type": "execute_result"
    }
   ],
   "source": [
    "obj_parent3.method2()"
   ]
  },
  {
   "cell_type": "markdown",
   "id": "8f00a824-f26f-487b-8140-3ed588071a0f",
   "metadata": {},
   "source": [
    "In this example parent3 class inherit methods from both parent1 and parent2 class"
   ]
  },
  {
   "cell_type": "markdown",
   "id": "c8187b03-cdf1-404f-a161-1a5f308f5aa7",
   "metadata": {},
   "source": [
    "Q4. What are getter and setter in python? Create a class and create a getter and a setter method in this\n",
    "class.\n",
    "\n",
    "Ans. Getter methods are used to get the value of an attribute.\n",
    "     Setter methods are used to set or modify the value of an attribute. \n",
    "     The example of a getter and a setter method is as following"
   ]
  },
  {
   "cell_type": "code",
   "execution_count": 26,
   "id": "1a189ae6-6bd7-41aa-9680-db3c746e6552",
   "metadata": {},
   "outputs": [],
   "source": [
    "class student:\n",
    "    \n",
    "    def __init__(self,name ,age):\n",
    "        self._name = name\n",
    "        self._age = age\n",
    "        \n",
    "    def get_name(self):\n",
    "        return self._name\n",
    "    \n",
    "    def set_name(self , new_name):\n",
    "        self._name = new_name\n",
    "        \n",
    "    def get_age(self):\n",
    "        return self._age\n",
    "    \n",
    "    def set_age(self , new_age):\n",
    "        if new_age >= 0:\n",
    "            self._age = new_age\n",
    "        else:\n",
    "            print(\"Age cannot be negative\")"
   ]
  },
  {
   "cell_type": "code",
   "execution_count": 29,
   "id": "b3ff082e-6d3e-45fd-8c1d-e5f48a5f7da1",
   "metadata": {},
   "outputs": [],
   "source": [
    "Student1 = student(\"Rohit\" , 20)"
   ]
  },
  {
   "cell_type": "code",
   "execution_count": 30,
   "id": "914c6dda-2788-4034-af3d-d39ccbd9c96e",
   "metadata": {},
   "outputs": [
    {
     "data": {
      "text/plain": [
       "'Rohit'"
      ]
     },
     "execution_count": 30,
     "metadata": {},
     "output_type": "execute_result"
    }
   ],
   "source": [
    "Student1.get_name()"
   ]
  },
  {
   "cell_type": "code",
   "execution_count": 31,
   "id": "91aeb57f-3bd2-4f3e-a3b2-d2073d661843",
   "metadata": {},
   "outputs": [],
   "source": [
    "Student1.set_name(\"MOhit\")"
   ]
  },
  {
   "cell_type": "code",
   "execution_count": 32,
   "id": "63b2bbc2-5cb7-4163-b525-e8969eff06dc",
   "metadata": {},
   "outputs": [
    {
     "data": {
      "text/plain": [
       "'MOhit'"
      ]
     },
     "execution_count": 32,
     "metadata": {},
     "output_type": "execute_result"
    }
   ],
   "source": [
    "Student1.get_name()"
   ]
  },
  {
   "cell_type": "code",
   "execution_count": 33,
   "id": "ca7f4048-d0fb-435e-aa62-710b47cf81e1",
   "metadata": {},
   "outputs": [
    {
     "data": {
      "text/plain": [
       "20"
      ]
     },
     "execution_count": 33,
     "metadata": {},
     "output_type": "execute_result"
    }
   ],
   "source": [
    "Student1.get_age()"
   ]
  },
  {
   "cell_type": "code",
   "execution_count": 34,
   "id": "1d0cbc27-3605-48d1-94fb-357728b3c2e3",
   "metadata": {},
   "outputs": [
    {
     "name": "stdout",
     "output_type": "stream",
     "text": [
      "Age cannot be negative\n"
     ]
    }
   ],
   "source": [
    "Student1.set_age(-67)"
   ]
  },
  {
   "cell_type": "code",
   "execution_count": 35,
   "id": "e73ac1a2-8c74-46db-8672-10da0ea4f502",
   "metadata": {},
   "outputs": [],
   "source": [
    "Student1.set_age(21)"
   ]
  },
  {
   "cell_type": "code",
   "execution_count": 37,
   "id": "04c014cc-7d7b-4a69-aa0b-246ffe94270f",
   "metadata": {},
   "outputs": [
    {
     "data": {
      "text/plain": [
       "21"
      ]
     },
     "execution_count": 37,
     "metadata": {},
     "output_type": "execute_result"
    }
   ],
   "source": [
    "Student1.get_age()"
   ]
  },
  {
   "cell_type": "markdown",
   "id": "33527565-7558-442e-9ee2-df41a86825db",
   "metadata": {},
   "source": [
    "Q5.What is method overriding in python? Write a python code to demonstrate method overriding.\n",
    "\n",
    "Ans. In method overriding a subclass provides a specific implementation of a method that is already defined in its superclass."
   ]
  },
  {
   "cell_type": "code",
   "execution_count": 38,
   "id": "41c879a8-acfc-4ab1-8693-51fde502c62e",
   "metadata": {},
   "outputs": [],
   "source": [
    "class Animal:\n",
    "    def speak(self):\n",
    "        print(\"Animal speaks\")\n",
    "\n",
    "class Dog(Animal):\n",
    "    def speak(self):\n",
    "        print(\"Dog barks\")\n",
    "\n",
    "class Cat(Animal):\n",
    "    def speak(self):\n",
    "        print(\"Cat meows\")"
   ]
  },
  {
   "cell_type": "code",
   "execution_count": 39,
   "id": "ae0524be-13a4-485f-a34b-91d1a5086e29",
   "metadata": {},
   "outputs": [],
   "source": [
    "dog = Dog()\n",
    "cat = Cat()"
   ]
  },
  {
   "cell_type": "code",
   "execution_count": 40,
   "id": "ad140575-080e-4ce1-b87b-c2da35c6ef46",
   "metadata": {},
   "outputs": [
    {
     "name": "stdout",
     "output_type": "stream",
     "text": [
      "Dog barks\n",
      "Cat meows\n"
     ]
    }
   ],
   "source": [
    "dog.speak()  \n",
    "cat.speak()"
   ]
  },
  {
   "cell_type": "code",
   "execution_count": null,
   "id": "13c71d0d-29b9-4b34-be79-9e2591a1acb6",
   "metadata": {},
   "outputs": [],
   "source": []
  }
 ],
 "metadata": {
  "kernelspec": {
   "display_name": "Python 3 (ipykernel)",
   "language": "python",
   "name": "python3"
  },
  "language_info": {
   "codemirror_mode": {
    "name": "ipython",
    "version": 3
   },
   "file_extension": ".py",
   "mimetype": "text/x-python",
   "name": "python",
   "nbconvert_exporter": "python",
   "pygments_lexer": "ipython3",
   "version": "3.10.8"
  }
 },
 "nbformat": 4,
 "nbformat_minor": 5
}
